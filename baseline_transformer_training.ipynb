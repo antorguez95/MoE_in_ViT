{
 "cells": [
  {
   "cell_type": "code",
   "execution_count": 1,
   "metadata": {},
   "outputs": [
    {
     "name": "stderr",
     "output_type": "stream",
     "text": [
      "c:\\Users\\aralmeida\\Anaconda3\\envs\\alien_test\\lib\\site-packages\\torchvision\\io\\image.py:13: UserWarning: Failed to load image Python extension: '[WinError 127] No se encontró el proceso especificado'If you don't plan on using image functionality from `torchvision.io`, you can ignore this warning. Otherwise, there might be something wrong with your environment. Did you have `libjpeg` or `libpng` installed before building `torchvision` from source?\n",
      "  warn(\n"
     ]
    },
    {
     "name": "stdout",
     "output_type": "stream",
     "text": [
      "Files already downloaded and verified\n",
      "Files already downloaded and verified\n"
     ]
    }
   ],
   "source": [
    "from __future__ import print_function\n",
    "import torch\n",
    "import torch.nn as nn\n",
    "import torch.optim as optim\n",
    "import torchvision\n",
    "import torchvision.transforms as transforms\n",
    "import time\n",
    "\n",
    "from baseline_transformer import ViT_classifier\n",
    "\n",
    "\n",
    "# If available, CUDA (in this case we use CPU)\n",
    "device = 'cuda' if torch.cuda.is_available() else 'cpu'\n",
    "best_acc = 0  # best test accuracy\n",
    "\n",
    "\n",
    "# Model parameters \n",
    "size = 32\n",
    "bs =  512 # Batch size\n",
    "lr = 0.0001\n",
    "epochs = 5 # 200 would be nice but it takes too long\n",
    "patch = 4\n",
    "use_amp = False\n",
    "\n",
    "# Applying some transformation to both sets \n",
    "transform_train = transforms.Compose([\n",
    "    transforms.RandomCrop(32, padding=4),\n",
    "    transforms.Resize(size),\n",
    "    transforms.RandomHorizontalFlip(),\n",
    "    transforms.ToTensor(),\n",
    "    transforms.Normalize((0.4914, 0.4822, 0.4465), (0.2023, 0.1994, 0.2010)),\n",
    "])\n",
    "\n",
    "transform_test = transforms.Compose([\n",
    "    transforms.Resize(size),\n",
    "    transforms.ToTensor(),\n",
    "    transforms.Normalize((0.4914, 0.4822, 0.4465), (0.2023, 0.1994, 0.2010)),\n",
    "])\n",
    "\n",
    "\n",
    "# Prepare CIFAR-10 dataset\n",
    "trainset = torchvision.datasets.CIFAR10(root='./data', train=True, download=True, transform=transform_train)\n",
    "trainloader = torch.utils.data.DataLoader(trainset, batch_size=bs, shuffle=True, num_workers=8)\n",
    "\n",
    "testset = torchvision.datasets.CIFAR10(root='./data', train=False, download=True, transform=transform_test)\n",
    "testloader = torch.utils.data.DataLoader(testset, batch_size=100, shuffle=False, num_workers=8)\n",
    "\n",
    "# 10 classes\n",
    "classes = ('plane', 'car', 'bird', 'cat', 'deer', 'dog', 'frog', 'horse', 'ship', 'truck')\n"
   ]
  },
  {
   "cell_type": "code",
   "execution_count": 2,
   "metadata": {},
   "outputs": [
    {
     "name": "stdout",
     "output_type": "stream",
     "text": [
      "num_patches 64\n",
      "patch_dim 48\n"
     ]
    },
    {
     "name": "stderr",
     "output_type": "stream",
     "text": [
      "C:\\Users\\aralmeida\\AppData\\Local\\Temp\\ipykernel_33456\\2238442615.py:23: FutureWarning: `torch.cuda.amp.GradScaler(args...)` is deprecated. Please use `torch.amp.GradScaler('cuda', args...)` instead.\n",
      "  scaler = torch.cuda.amp.GradScaler(enabled=use_amp)\n"
     ]
    },
    {
     "name": "stdout",
     "output_type": "stream",
     "text": [
      "\n",
      "Epoch: 0\n",
      "Sat Aug  3 01:21:21 2024 Epoch 0, lr: 0.0001000, val loss: 164.11519, acc: 42.52000\n",
      "[164.1151888370514]\n",
      "\n",
      "Epoch: 1\n"
     ]
    },
    {
     "name": "stderr",
     "output_type": "stream",
     "text": [
      "c:\\Users\\aralmeida\\Anaconda3\\envs\\alien_test\\lib\\site-packages\\torch\\optim\\lr_scheduler.py:232: UserWarning: The epoch parameter in `scheduler.step()` was not necessary and is being deprecated where possible. Please use `scheduler.step()` to step the scheduler. During the deprecation, if epoch is different from None, the closed form is used instead of the new chainable form, where available. Please open an issue if you are unable to replicate your use case: https://github.com/pytorch/pytorch/issues/new/choose.\n",
      "  warnings.warn(EPOCH_DEPRECATION_WARNING, UserWarning)\n"
     ]
    },
    {
     "name": "stdout",
     "output_type": "stream",
     "text": [
      "Sat Aug  3 02:49:57 2024 Epoch 1, lr: 0.0000905, val loss: 137.05565, acc: 51.14000\n",
      "[164.1151888370514, 137.05565345287323]\n",
      "\n",
      "Epoch: 2\n",
      "Sat Aug  3 04:18:33 2024 Epoch 2, lr: 0.0001000, val loss: 122.55442, acc: 55.99000\n",
      "[164.1151888370514, 137.05565345287323, 122.55441975593567]\n",
      "\n",
      "Epoch: 3\n",
      "Sat Aug  3 05:47:45 2024 Epoch 3, lr: 0.0000905, val loss: 117.03506, acc: 58.62000\n",
      "[164.1151888370514, 137.05565345287323, 122.55441975593567, 117.03506034612656]\n",
      "\n",
      "Epoch: 4\n",
      "Sat Aug  3 07:16:16 2024 Epoch 4, lr: 0.0000655, val loss: 111.35362, acc: 60.52000\n",
      "[164.1151888370514, 137.05565345287323, 122.55441975593567, 117.03506034612656, 111.3536222577095]\n"
     ]
    }
   ],
   "source": [
    "# MoE-based ViT call\n",
    "net = ViT_classifier(image_size = 32, \n",
    "                        patch_size = 4,\n",
    "                        num_classes = 10,\n",
    "                        dim=412, # Original: 512\n",
    "                        depth = 6,  # Original: 6\n",
    "                        heads = 8, # Original: 8 \n",
    "                        mlp_dim = 512, \n",
    "                        channels = 3, \n",
    "                        dim_head=512, \n",
    "                        emb_dropout=0,)    # (input_size=1000, output_size=20, num_experts=10,hidden_size=66, k= 4, noisy_gating=True)\n",
    "\n",
    "# Cross Entropy Loss\n",
    "criterion = nn.CrossEntropyLoss()\n",
    "\n",
    "# Adam optimizer\n",
    "optimizer = optim.Adam(net.parameters(), lr=lr)\n",
    "\n",
    "# use cosine scheduling\n",
    "scheduler = torch.optim.lr_scheduler.CosineAnnealingLR(optimizer, epochs)\n",
    "\n",
    "# Train and test functions \n",
    "scaler = torch.cuda.amp.GradScaler(enabled=use_amp)\n",
    "def train(epoch):\n",
    "    print('\\nEpoch: %d' % epoch)\n",
    "    net.train()\n",
    "    train_loss = 0\n",
    "    correct = 0\n",
    "    total = 0\n",
    "    for batch_idx, (inputs, targets) in enumerate(trainloader):\n",
    "        inputs, targets = inputs.to(device), targets.to(device)\n",
    "        \n",
    "        outputs = net(inputs)\n",
    "        loss = criterion(outputs, targets)\n",
    "        \n",
    "        scaler.scale(loss).backward()\n",
    "        scaler.step(optimizer)\n",
    "        scaler.update()\n",
    "        optimizer.zero_grad()\n",
    "\n",
    "        train_loss += loss.item()\n",
    "        _, predicted = outputs.max(1)\n",
    "        total += targets.size(0)\n",
    "        correct += predicted.eq(targets).sum().item()\n",
    "\n",
    "    return train_loss/(batch_idx+1)\n",
    "\n",
    "def test(epoch):\n",
    "    global best_acc\n",
    "    net.eval()\n",
    "    test_loss = 0\n",
    "    correct = 0\n",
    "    total = 0\n",
    "    with torch.no_grad():\n",
    "        for batch_idx, (inputs, targets) in enumerate(testloader):\n",
    "            inputs, targets = inputs.to(device), targets.to(device)\n",
    "            outputs = net(inputs)\n",
    "            loss = criterion(outputs, targets)\n",
    "\n",
    "            test_loss += loss.item()\n",
    "            _, predicted = outputs.max(1)\n",
    "            total += targets.size(0)\n",
    "            correct += predicted.eq(targets).sum().item()\n",
    "\n",
    "    # Accuraccy \n",
    "    acc = 100.*correct/total\n",
    "    if acc > best_acc:\n",
    "        best_acc = acc\n",
    "    \n",
    "    # Save in a txt accurary and loss\n",
    "    content = time.ctime() + ' ' + f'Epoch {epoch}, lr: {optimizer.param_groups[0][\"lr\"]:.7f}, val loss: {test_loss:.5f}, acc: {(acc):.5f}'\n",
    "    print(content)\n",
    "\n",
    "    # Create txt file and append content \n",
    "    with open('baseline_ViT.txt', 'w') as f:\n",
    "        f.write(content)\n",
    "        f.close()\n",
    "\n",
    "    return test_loss, acc\n",
    "\n",
    "list_loss = []\n",
    "list_acc = []\n",
    "\n",
    "for epoch in range(0, epochs):\n",
    "    start = time.time()\n",
    "    trainloss = train(epoch)\n",
    "    val_loss, acc = test(epoch)\n",
    "    \n",
    "    scheduler.step(epoch-1) # step cosine scheduling\n",
    "    \n",
    "    list_loss.append(val_loss)\n",
    "    list_acc.append(acc)\n",
    "\n",
    "    print(list_loss)"
   ]
  }
 ],
 "metadata": {
  "kernelspec": {
   "display_name": "alien_test",
   "language": "python",
   "name": "python3"
  },
  "language_info": {
   "codemirror_mode": {
    "name": "ipython",
    "version": 3
   },
   "file_extension": ".py",
   "mimetype": "text/x-python",
   "name": "python",
   "nbconvert_exporter": "python",
   "pygments_lexer": "ipython3",
   "version": "3.9.19"
  }
 },
 "nbformat": 4,
 "nbformat_minor": 2
}
